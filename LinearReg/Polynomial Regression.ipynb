{
 "cells": [
  {
   "attachments": {},
   "cell_type": "markdown",
   "metadata": {},
   "source": [
    "# Polynomial Regression"
   ]
  },
  {
   "cell_type": "markdown",
   "metadata": {},
   "source": [
    "Anshu Kumar Agrawal <br/>\n",
    "207108 CSE A"
   ]
  },
  {
   "cell_type": "code",
   "execution_count": 1,
   "metadata": {},
   "outputs": [],
   "source": [
    "import pandas as pd\n",
    "import numpy as np\n",
    "import scipy as sc\n",
    "import matplotlib.pyplot as plt\n",
    "import math"
   ]
  },
  {
   "cell_type": "code",
   "execution_count": 252,
   "metadata": {},
   "outputs": [],
   "source": [
    "def GenerateData(length, high, low, degree):\n",
    "    uniformX = np.random.uniform(high=high,low=low,size=(length))\n",
    "    params = 100*(np.random.rand(degree+1)-0.5)\n",
    "    uniformY = np.zeros((length))\n",
    "    for i in range(degree+1):\n",
    "        uniformY += params[i]*(uniformX**i)\n",
    "    noisyY = uniformY + 100*np.random.normal(size=(length))\n",
    "    return uniformX, noisyY, params"
   ]
  },
  {
   "cell_type": "code",
   "execution_count": 249,
   "metadata": {},
   "outputs": [],
   "source": [
    "class PolynomialRegression:\n",
    "    def __init__(self,degree=1,reg=0,penalty=-18):\n",
    "        self.reg = reg\n",
    "        self.degree = degree+1\n",
    "        self.lmd = math.e**penalty\n",
    "        self.param = np.random.randint(low=0,high=5,size=(self.degree))\n",
    "        \n",
    "    def train(self,x, y, learning_rate=0.0000001, max_iter=10000):\n",
    "        for it in range(max_iter):\n",
    "            y_pred = self.predict(x)\n",
    "            reg_term = self.regular_term()\n",
    "            for it in range(max_iter):\n",
    "                self.param = self.param - (np.array([(np.sum((y_pred-y)*(x**i))/len(x)+reg_term[i])*learning_rate for i in range(self.degree)]))\n",
    "            return self.param    \n",
    "          \n",
    "    def regular_term(self):\n",
    "        if self.reg == 0:    \n",
    "            return np.zeros(self.degree)\n",
    "        elif self.reg == 1:\n",
    "            return np.full(self.degree, self.lmd)\n",
    "        else :\n",
    "            mag = math.sqrt(np.sum(self.param**2))\n",
    "            return abs(self.param)*self.lmd/mag\n",
    "\n",
    "    def predict(self,x):\n",
    "        y = np.zeros(len(x))\n",
    "        for i in range(self.degree):\n",
    "            y += self.param[i]*(x**i)\n",
    "        return y"
   ]
  },
  {
   "cell_type": "code",
   "execution_count": 262,
   "metadata": {},
   "outputs": [
    {
     "name": "stdout",
     "output_type": "stream",
     "text": [
      "[ -0.132949    -0.70102174 -53.45701415]\n",
      "[-31.55318932   6.86331656 -40.86109856]\n"
     ]
    },
    {
     "data": {
      "image/png": "[encoded data removed]",
      "text/plain": [
       "<Figure size 432x288 with 1 Axes>"
      ]
     },
     "metadata": {
      "needs_background": "light"
     },
     "output_type": "display_data"
    }
   ],
   "source": [
    "x, y, pp = GenerateData(30,10,-10,2)\n",
    "\n",
    "pr = PolynomialRegression(degree=2)\n",
    "xx = pr.train(x,y)\n",
    "\n",
    "print(xx)\n",
    "print(pp)\n",
    "tmpx = np.linspace(-10,10,200)\n",
    "plt.plot(tmpx, xx[0] + xx[1]*tmpx + xx[2]*(tmpx**2) )\n",
    "plt.scatter(x,y)\n",
    "plt.show()\n"
   ]
  }
 ],
 "metadata": {
  "kernelspec": {
   "display_name": "Python 3",
   "language": "python",
   "name": "python3"
  },
  "language_info": {
   "codemirror_mode": {
    "name": "ipython",
    "version": 3
   },
   "file_extension": ".py",
   "mimetype": "text/x-python",
   "name": "python",
   "nbconvert_exporter": "python",
   "pygments_lexer": "ipython3",
   "version": "3.10.6"
  },
  "orig_nbformat": 4,
  "vscode": {
   "interpreter": {
    "hash": "916dbcbb3f70747c44a77c7bcd40155683ae19c65e1c03b4aa3499c5328201f1"
   }
  }
 },
 "nbformat": 4,
 "nbformat_minor": 2
}
